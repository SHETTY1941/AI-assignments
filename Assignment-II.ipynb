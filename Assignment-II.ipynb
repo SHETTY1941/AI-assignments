{
 "cells": [
  {
   "cell_type": "markdown",
   "id": "0b57165f",
   "metadata": {},
   "source": [
    "## AI Assignment 2 Solution"
   ]
  },
  {
   "cell_type": "markdown",
   "id": "c9475c47",
   "metadata": {},
   "source": [
    "#### Part A — Best First Search (Greedy Search)"
   ]
  },
  {
   "cell_type": "code",
   "execution_count": 4,
   "id": "ee7e3a2e",
   "metadata": {},
   "outputs": [],
   "source": [
    "## Python Implementation\n",
    "import heapq\n",
    "import math\n",
    "\n",
    "# 8 possible moves\n",
    "DIRS = [(-1,-1), (-1,0), (-1,1), (0,-1), (0,1), (1,-1), (1,0), (1,1)]\n",
    "\n",
    "def valid(n, x, y, grid):\n",
    "    return 0 <= x < n and 0 <= y < n and grid[x][y] == 0\n",
    "\n",
    "# Heuristic (Euclidean distance)\n",
    "def heuristic(x, y, gx, gy):\n",
    "    return math.sqrt((x-gx)**2 + (y-gy)**2)\n",
    "\n",
    "#  Best First Search \n",
    "def best_first_search(grid):\n",
    "    n = len(grid)\n",
    "    if grid[0][0] != 0 or grid[n-1][n-1] != 0:\n",
    "        return -1, []\n",
    "    goal = (n-1, n-1)\n",
    "\n",
    "    pq = [(heuristic(0,0,*goal), (0,0), [(0,0)])]\n",
    "    visited = set([(0,0)])\n",
    "\n",
    "    while pq:\n",
    "        _, (x,y), path = heapq.heappop(pq)\n",
    "        if (x,y) == goal:\n",
    "            return len(path), path\n",
    "        for dx,dy in DIRS:\n",
    "            nx, ny = x+dx, y+dy\n",
    "            if valid(n, nx, ny, grid) and (nx,ny) not in visited:\n",
    "                visited.add((nx,ny))\n",
    "                heapq.heappush(pq,(heuristic(nx,ny,*goal),(nx,ny),path+[(nx,ny)]))\n",
    "    return -1, []\n"
   ]
  },
  {
   "cell_type": "markdown",
   "id": "e47efe1a",
   "metadata": {},
   "source": [
    "#### Part B — A* Search"
   ]
  },
  {
   "cell_type": "code",
   "execution_count": 6,
   "id": "e96a1335",
   "metadata": {},
   "outputs": [
    {
     "name": "stdout",
     "output_type": "stream",
     "text": [
      "Example 1:\n",
      "Best First Search → Path length: 2, Path: [(0, 0), (1, 1)]\n",
      "A* Search → Path length: 2, Path: [(0, 0), (1, 1)]\n",
      "\n",
      "Example 2:\n",
      "Best First Search → Path length: 4, Path: [(0, 0), (0, 1), (1, 2), (2, 2)]\n",
      "A* Search → Path length: 4, Path: [(0, 0), (0, 1), (1, 2), (2, 2)]\n",
      "\n",
      "Example 3:\n",
      "Best First Search → Path length: -1\n",
      "A* Search → Path length: -1\n"
     ]
    }
   ],
   "source": [
    "# A* Search\n",
    "def a_star_search(grid):\n",
    "    n = len(grid)\n",
    "    if grid[0][0] != 0 or grid[n-1][n-1] != 0:\n",
    "        return -1, []\n",
    "    goal = (n-1, n-1)\n",
    "\n",
    "    pq = [(heuristic(0,0,*goal), 0, (0,0), [(0,0)])]\n",
    "    g_cost = {(0,0):0}\n",
    "\n",
    "    while pq:\n",
    "        f,g,(x,y),path = heapq.heappop(pq)\n",
    "        if (x,y) == goal:\n",
    "            return len(path), path\n",
    "        for dx,dy in DIRS:\n",
    "            nx, ny = x+dx, y+dy\n",
    "            if valid(n,nx,ny,grid):\n",
    "                ng = g+1\n",
    "                if (nx,ny) not in g_cost or ng < g_cost[(nx,ny)]:\n",
    "                    g_cost[(nx,ny)] = ng\n",
    "                    f = ng + heuristic(nx,ny,*goal)\n",
    "                    heapq.heappush(pq,(f,ng,(nx,ny),path+[(nx,ny)]))\n",
    "    return -1, []\n",
    "\n",
    "\n",
    "def run_case(grid):\n",
    "    blen, bpath = best_first_search(grid)\n",
    "    if blen == -1:\n",
    "        print(\"Best First Search → Path length: -1\")\n",
    "    else:\n",
    "        print(f\"Best First Search → Path length: {blen}, Path: {bpath}\")\n",
    "    alen, apath = a_star_search(grid)\n",
    "    if alen == -1:\n",
    "        print(\"A* Search → Path length: -1\")\n",
    "    else:\n",
    "        print(f\"A* Search → Path length: {alen}, Path: {apath}\")\n",
    "\n",
    "\n",
    "# Example 1\n",
    "print(\"Example 1:\")\n",
    "grid1 = [[0,1],[1,0]]\n",
    "run_case(grid1)\n",
    "\n",
    "# Example 2\n",
    "print(\"\\nExample 2:\")\n",
    "grid2 = [[0,0,0],[1,1,0],[1,1,0]]\n",
    "run_case(grid2)\n",
    "\n",
    "# Example 3\n",
    "print(\"\\nExample 3:\")\n",
    "grid3 = [[1,0,0],[1,1,0],[1,1,0]]\n",
    "run_case(grid3)\n"
   ]
  },
  {
   "cell_type": "markdown",
   "id": "6d0c706e",
   "metadata": {},
   "source": [
    "#### Comparison\n",
    "\n",
    "Best First Search (Greedy): Chooses nodes only by heuristic (Euclidean distance). It is fast but not guaranteed to find the shortest path.\n",
    "\n",
    "A* Search: Uses both path cost (g) and heuristic (h). Always returns the shortest path length (or -1 if none). More reliable but slightly more computationally expensive."
   ]
  }
 ],
 "metadata": {
  "kernelspec": {
   "display_name": "Python 3 (ipykernel)",
   "language": "python",
   "name": "python3"
  },
  "language_info": {
   "codemirror_mode": {
    "name": "ipython",
    "version": 3
   },
   "file_extension": ".py",
   "mimetype": "text/x-python",
   "name": "python",
   "nbconvert_exporter": "python",
   "pygments_lexer": "ipython3",
   "version": "3.12.3"
  }
 },
 "nbformat": 4,
 "nbformat_minor": 5
}
